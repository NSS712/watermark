{
 "cells": [
  {
   "cell_type": "code",
   "execution_count": 6,
   "metadata": {},
   "outputs": [
    {
     "data": {
      "image/png": "[encoded data removed]",
      "text/plain": [
       "<PIL.Image.Image image mode=L size=256x256>"
      ]
     },
     "metadata": {},
     "output_type": "display_data"
    },
    {
     "data": {
      "image/png": "[encoded data removed]",
      "text/plain": [
       "<PIL.Image.Image image mode=L size=256x256>"
      ]
     },
     "metadata": {},
     "output_type": "display_data"
    }
   ],
   "source": [
    "import numpy as np\n",
    "from PIL import Image\n",
    "import matplotlib.pyplot as plt\n",
    "from IPython.display import display\n",
    "from add_watermark import modify_red_to_green\n",
    "\n",
    "pic = np.array([list(range(256)) for _ in range(256)], dtype=np.uint8)\n",
    "pic_mark = np.array(modify_red_to_green(pic,k=30),dtype=np.uint8)\n",
    "img = Image.fromarray(pic, mode='L')\n",
    "img_mark = Image.fromarray(pic_mark, mode='L')\n",
    "display(img)\n",
    "display(img_mark)"
   ]
  },
  {
   "cell_type": "code",
   "execution_count": 9,
   "metadata": {},
   "outputs": [
    {
     "data": {
      "image/png": "[encoded data removed]",
      "text/plain": [
       "<PIL.Image.Image image mode=L size=256x256>"
      ]
     },
     "metadata": {},
     "output_type": "display_data"
    },
    {
     "data": {
      "image/png": "[encoded data removed]",
      "text/plain": [
       "<PIL.JpegImagePlugin.JpegImageFile image mode=L size=256x256>"
      ]
     },
     "metadata": {},
     "output_type": "display_data"
    },
    {
     "name": "stdout",
     "output_type": "stream",
     "text": [
      "[  0   1   2   3   5   6   7   8   8   9  10  11  13  14  15  16  16  17\n",
      "  18  19  21  22  23  24  24  25  26  27  29  30  31  32  32  33  34  35\n",
      "  37  38  39  40  40  41  42  43  45  46  47  48  48  49  50  51  53  54\n",
      "  55  56  56  57  58  59  61  62  63  64  64  65  66  67  69  70  71  72\n",
      "  72  73  74  75  77  78  79  80  80  81  82  83  85  86  87  88  88  89\n",
      "  90  91  93  94  95  96  96  97  98  99 101 102 103 104 104 105 106 107\n",
      " 109 110 111 112 112 113 114 115 117 118 119 120 120 121 122 123 125 126\n",
      " 127 128 128 129 130 131 133 134 135 136 136 137 138 139 141 142 143 144\n",
      " 144 145 146 147 149 150 151 152 152 153 154 155 157 158 159 160 160 161\n",
      " 162 163 165 166 167 168 168 169 170 171 173 174 175 176 176 177 178 179\n",
      " 181 182 183 184 184 185 186 187 189 190 191 192 192 193 194 195 197 198\n",
      " 199 200 200 201 202 203 205 206 207 208 208 209 210 211 213 214 215 216\n",
      " 216 217 218 219 221 222 223 224 224 225 226 227 229 230 231 232 232 233\n",
      " 234 235 237 238 239 240 240 241 242 243 245 246 247 248 248 249 250 251\n",
      " 253 254 255 255]\n",
      "==============================\n",
      "[  0   1   2   3   4   5   6   7   8   9  10  11  12  13  14  15  16  17\n",
      "  18  19  20  21  22  23  24  25  26  27  28  29  29  29  29  29  29  29\n",
      "  29  29  29  29  29  29  29  29  29  60  60  60  60  60  60  60  60  60\n",
      "  60  60  60  60  60  60  60  61  62  63  64  65  66  67  68  69  70  71\n",
      "  72  73  74  75  76  77  78  79  80  81  82  83  84  85  86  87  88  89\n",
      "  89  89  89  89  89  89  89  89  89  89  89  89  89  89  89 120 120 120\n",
      " 120 120 120 120 120 120 120 120 120 120 120 120 120 121 122 123 124 125\n",
      " 126 127 128 129 130 131 132 133 134 135 136 137 138 139 140 141 142 143\n",
      " 144 145 146 147 148 149 149 149 149 149 149 149 149 149 149 149 149 149\n",
      " 149 149 149 180 180 180 180 180 180 180 180 180 180 180 180 180 180 180\n",
      " 180 181 182 183 184 185 186 187 188 189 190 191 192 193 194 195 196 197\n",
      " 198 199 200 201 202 203 204 205 206 207 208 209 209 209 209 209 209 209\n",
      " 209 209 209 209 209 209 209 209 209 240 240 240 240 240 240 240 240 240\n",
      " 240 240 240 240 240 240 240 241 242 243 244 245 246 247 248 249 250 251\n",
      " 252 253 254 255]\n",
      "==============================\n",
      "[  0   1   2   3   5   6   7   8   8   9  10  11  13  14  15  16  16  17\n",
      "  18  19  21  22  23  24  26  26  27  28  28  29  30  30  28  28  28  28\n",
      "  28  28  28  28  29  31  28  25  35  53  61  58  60  60  60  60  60  60\n",
      "  60  60  58  58  59  60  60  61  62  62  64  65  66  67  69  70  71  72\n",
      "  72  73  74  75  77  78  79  80  80  81  82  83  85  86  87  88  88  88\n",
      "  88  88  88  88  88  88  88  88  88  88  88  88  88  88  90 118 122 115\n",
      " 124 122 115 123 120 120 120 120 120 120 120 120 120 121 122 123 125 126\n",
      " 127 128 128 129 130 131 133 134 135 136 136 137 138 139 141 142 143 144\n",
      " 146 146 147 148 148 149 150 150 150 150 150 150 150 150 150 150 149 151\n",
      " 148 145 155 173 181 178 180 180 180 180 180 180 180 180 178 178 179 180\n",
      " 180 181 182 182 184 185 186 187 189 190 191 192 192 193 194 195 197 198\n",
      " 199 200 200 201 202 203 205 206 207 208 208 208 208 208 208 208 208 208\n",
      " 210 210 210 210 210 210 210 210 210 238 242 235 244 242 235 243 240 240\n",
      " 240 240 240 240 240 240 240 241 242 243 245 246 247 248 248 249 250 251\n",
      " 253 254 255 255]\n"
     ]
    }
   ],
   "source": [
    "img.save(f\"img_compressed_quality.jpg\", \"JPEG\", quality=50)\n",
    "img_mark.save(f'img_mark.jpg', \"JPEG\", quality=50)\n",
    "img_com = Image.open(\"img_compressed_quality.jpg\")\n",
    "img_mark_com = Image.open(\"img_mark.jpg\")\n",
    "# display(img_com)\n",
    "display(img_mark)\n",
    "display(img_mark_com)\n",
    "img_com_np = np.array(img_com)\n",
    "img_mark_com_np = np.array(img_mark_com)\n",
    "print(img_com_np[0])\n",
    "print(\"=\" * 30)\n",
    "print(pic_mark[0])\n",
    "print(\"=\" * 30)\n",
    "print(img_mark_com_np[0])"
   ]
  }
 ],
 "metadata": {
  "kernelspec": {
   "display_name": "chat",
   "language": "python",
   "name": "python3"
  },
  "language_info": {
   "codemirror_mode": {
    "name": "ipython",
    "version": 3
   },
   "file_extension": ".py",
   "mimetype": "text/x-python",
   "name": "python",
   "nbconvert_exporter": "python",
   "pygments_lexer": "ipython3",
   "version": "3.10.12"
  }
 },
 "nbformat": 4,
 "nbformat_minor": 2
}
